{
 "cells": [
  {
   "cell_type": "markdown",
   "metadata": {},
   "source": [
    "I am not an expert (not yet!) in the adtech or more specifically in the bidding. however, I have some sort of assumptions or ideas:\n",
    "* for a given bidder, there should be some sort of stability,especially when it comes to the ip he/she uses (small ip descpersion)\n",
    "* Also maybe a favorite device with which ( small device despersion)\n",
    "* local time \n",
    "* look to the past behavior\n",
    "* has the id been already flagged as bot"
   ]
  },
  {
   "cell_type": "code",
   "execution_count": null,
   "metadata": {
    "collapsed": true
   },
   "outputs": [],
   "source": [
    "import numpy as np\n",
    "import pandas as pd"
   ]
  },
  {
   "cell_type": "code",
   "execution_count": 10,
   "metadata": {
    "collapsed": false
   },
   "outputs": [],
   "source": [
    "path = \"C:\\\\Users\\\\OUMOUSS\\\\PycharmProjects\\\\Adomik\\\\\"\n",
    "bids = pd.read_csv(path+'bids.csv')"
   ]
  },
  {
   "cell_type": "code",
   "execution_count": 15,
   "metadata": {
    "collapsed": false
   },
   "outputs": [],
   "source": [
    "bids.sort_values('time', axis=0, ascending=True, inplace=True)"
   ]
  },
  {
   "cell_type": "code",
   "execution_count": 3,
   "metadata": {
    "collapsed": false
   },
   "outputs": [
    {
     "data": {
      "text/plain": [
       "(7656334, 9)"
      ]
     },
     "execution_count": 3,
     "metadata": {},
     "output_type": "execute_result"
    }
   ],
   "source": [
    "bids.shape"
   ]
  },
  {
   "cell_type": "code",
   "execution_count": 4,
   "metadata": {
    "collapsed": false
   },
   "outputs": [
    {
     "data": {
      "text/plain": [
       "Index(['bid_id', 'bidder_id', 'auction', 'merchandise', 'device', 'time',\n",
       "       'country', 'ip', 'url'],\n",
       "      dtype='object')"
      ]
     },
     "execution_count": 4,
     "metadata": {},
     "output_type": "execute_result"
    }
   ],
   "source": [
    "bids.columns"
   ]
  },
  {
   "cell_type": "code",
   "execution_count": 5,
   "metadata": {
    "collapsed": false
   },
   "outputs": [
    {
     "data": {
      "text/html": [
       "<div>\n",
       "<style scoped>\n",
       "    .dataframe tbody tr th:only-of-type {\n",
       "        vertical-align: middle;\n",
       "    }\n",
       "\n",
       "    .dataframe tbody tr th {\n",
       "        vertical-align: top;\n",
       "    }\n",
       "\n",
       "    .dataframe thead th {\n",
       "        text-align: right;\n",
       "    }\n",
       "</style>\n",
       "<table border=\"1\" class=\"dataframe\">\n",
       "  <thead>\n",
       "    <tr style=\"text-align: right;\">\n",
       "      <th></th>\n",
       "      <th>bid_id</th>\n",
       "      <th>bidder_id</th>\n",
       "      <th>auction</th>\n",
       "      <th>merchandise</th>\n",
       "      <th>device</th>\n",
       "      <th>time</th>\n",
       "      <th>country</th>\n",
       "      <th>ip</th>\n",
       "      <th>url</th>\n",
       "    </tr>\n",
       "  </thead>\n",
       "  <tbody>\n",
       "    <tr>\n",
       "      <th>0</th>\n",
       "      <td>0</td>\n",
       "      <td>8dac2b259fd1c6d1120e519fb1ac14fbqvax8</td>\n",
       "      <td>ewmzr</td>\n",
       "      <td>jewelry</td>\n",
       "      <td>phone0</td>\n",
       "      <td>9759243157894736</td>\n",
       "      <td>us</td>\n",
       "      <td>69.166.231.58</td>\n",
       "      <td>vasstdc27m7nks3</td>\n",
       "    </tr>\n",
       "    <tr>\n",
       "      <th>1</th>\n",
       "      <td>1</td>\n",
       "      <td>668d393e858e8126275433046bbd35c6tywop</td>\n",
       "      <td>aeqok</td>\n",
       "      <td>furniture</td>\n",
       "      <td>phone1</td>\n",
       "      <td>9759243157894736</td>\n",
       "      <td>in</td>\n",
       "      <td>50.201.125.84</td>\n",
       "      <td>jmqlhflrzwuay9c</td>\n",
       "    </tr>\n",
       "    <tr>\n",
       "      <th>2</th>\n",
       "      <td>2</td>\n",
       "      <td>aa5f360084278b35d746fa6af3a7a1a5ra3xe</td>\n",
       "      <td>wa00e</td>\n",
       "      <td>home goods</td>\n",
       "      <td>phone2</td>\n",
       "      <td>9759243157894736</td>\n",
       "      <td>py</td>\n",
       "      <td>112.54.208.157</td>\n",
       "      <td>vasstdc27m7nks3</td>\n",
       "    </tr>\n",
       "    <tr>\n",
       "      <th>3</th>\n",
       "      <td>3</td>\n",
       "      <td>3939ac3ef7d472a59a9c5f893dd3e39fh9ofi</td>\n",
       "      <td>jefix</td>\n",
       "      <td>jewelry</td>\n",
       "      <td>phone4</td>\n",
       "      <td>9759243157894736</td>\n",
       "      <td>in</td>\n",
       "      <td>18.99.175.133</td>\n",
       "      <td>vasstdc27m7nks3</td>\n",
       "    </tr>\n",
       "    <tr>\n",
       "      <th>4</th>\n",
       "      <td>4</td>\n",
       "      <td>8393c48eaf4b8fa96886edc7cf27b372dsibi</td>\n",
       "      <td>jefix</td>\n",
       "      <td>jewelry</td>\n",
       "      <td>phone5</td>\n",
       "      <td>9759243157894736</td>\n",
       "      <td>in</td>\n",
       "      <td>145.138.5.37</td>\n",
       "      <td>vasstdc27m7nks3</td>\n",
       "    </tr>\n",
       "  </tbody>\n",
       "</table>\n",
       "</div>"
      ],
      "text/plain": [
       "   bid_id                              bidder_id auction merchandise  device  \\\n",
       "0       0  8dac2b259fd1c6d1120e519fb1ac14fbqvax8   ewmzr     jewelry  phone0   \n",
       "1       1  668d393e858e8126275433046bbd35c6tywop   aeqok   furniture  phone1   \n",
       "2       2  aa5f360084278b35d746fa6af3a7a1a5ra3xe   wa00e  home goods  phone2   \n",
       "3       3  3939ac3ef7d472a59a9c5f893dd3e39fh9ofi   jefix     jewelry  phone4   \n",
       "4       4  8393c48eaf4b8fa96886edc7cf27b372dsibi   jefix     jewelry  phone5   \n",
       "\n",
       "               time country              ip              url  \n",
       "0  9759243157894736      us   69.166.231.58  vasstdc27m7nks3  \n",
       "1  9759243157894736      in   50.201.125.84  jmqlhflrzwuay9c  \n",
       "2  9759243157894736      py  112.54.208.157  vasstdc27m7nks3  \n",
       "3  9759243157894736      in   18.99.175.133  vasstdc27m7nks3  \n",
       "4  9759243157894736      in    145.138.5.37  vasstdc27m7nks3  "
      ]
     },
     "execution_count": 5,
     "metadata": {},
     "output_type": "execute_result"
    }
   ],
   "source": [
    "bids.head()"
   ]
  },
  {
   "cell_type": "code",
   "execution_count": 15,
   "metadata": {
    "collapsed": false
   },
   "outputs": [],
   "source": [
    "# bids.describe\n",
    "# bids.info()"
   ]
  },
  {
   "cell_type": "markdown",
   "metadata": {},
   "source": [
    "## <span style=\"color:red\"> Univariate analysis</span>"
   ]
  },
  {
   "cell_type": "markdown",
   "metadata": {},
   "source": [
    "knowing that we have 7656334 observations, we can say that the same bidder_id comes several times in the dataset"
   ]
  },
  {
   "cell_type": "code",
   "execution_count": 120,
   "metadata": {
    "collapsed": false
   },
   "outputs": [
    {
     "data": {
      "text/plain": [
       "6614"
      ]
     },
     "execution_count": 120,
     "metadata": {},
     "output_type": "execute_result"
    }
   ],
   "source": [
    "len(bids['bidder_id'].unique()) # 7656334 observation"
   ]
  },
  {
   "cell_type": "markdown",
   "metadata": {},
   "source": [
    "same for ip addresses"
   ]
  },
  {
   "cell_type": "code",
   "execution_count": 17,
   "metadata": {
    "collapsed": false
   },
   "outputs": [
    {
     "data": {
      "text/plain": [
       "2303991"
      ]
     },
     "execution_count": 17,
     "metadata": {},
     "output_type": "execute_result"
    }
   ],
   "source": [
    "len(bids['ip'].unique())"
   ]
  },
  {
   "cell_type": "markdown",
   "metadata": {},
   "source": [
    "### country"
   ]
  },
  {
   "cell_type": "code",
   "execution_count": 123,
   "metadata": {
    "collapsed": true
   },
   "outputs": [],
   "source": [
    "def infos(col):\n",
    "    print(bids[col].unique())\n",
    "    print(\"\\n#unique instances: \")\n",
    "    print(len(bids[col].unique()))"
   ]
  },
  {
   "cell_type": "code",
   "execution_count": 124,
   "metadata": {
    "collapsed": false
   },
   "outputs": [
    {
     "name": "stdout",
     "output_type": "stream",
     "text": [
      "['us' 'in' 'py' 'ru' 'th' 'id' 'za' 'ng' 'sd' 'au' 'hr' 'np' 'iq' 'bd' 'tr'\n",
      " 'ch' 'ke' 'uk' 'fr' 'pk' 'my' 'vn' 'ro' 'gh' 'ua' 'pl' 'by' 'ar' 'zm' 'lk'\n",
      " 'ph' 'br' 'es' 'mx' 'il' 'qa' 'nl' 've' 'sg' 'gt' 'ae' 'az' 'uz' 'ht' 'tz'\n",
      " 'gm' 'dk' 'no' 'kw' 'mk' 'hu' 'it' 'ml' 'sv' 'bn' 'ni' 'cn' 'et' 'ge' 'mw'\n",
      " 'ee' 'ye' 'kr' 'tn' 'gr' 'at' 'cm' 'ca' 'mn' 'rs' 'sz' 'pe' 'jp' 'sl' 'bh'\n",
      " 'zw' 'bg' 'de' 'eu' 'cr' 'jo' 'ie' 'sa' 'eg' 'dz' 'hk' 'ec' 'si' 'lv' 'na'\n",
      " nan 'mt' 'ug' 'kg' 'se' 'bb' 'sc' 'sn' 'om' 'fi' 'cl' 'ma' 'am' 'lr' 'be'\n",
      " 'bf' 'kh' 'md' 'ly' 'al' 'ba' 'bo' 'lt' 'ga' 'mr' 'jm' 'bj' 'mu' 'pa' 'cz'\n",
      " 'ao' 'lu' 'me' 'af' 'kz' 'hn' 'ls' 'uy' 'lb' 'cy' 'sk' 'ir' 'la' 'dj' 'bz'\n",
      " 'ci' 'is' 'mg' 'so' 'co' 'pt' 'gy' 'td' 'rw' 'pr' 'bw' 'gq' 'cv' 'mc' 'ne'\n",
      " 'tg' 'bi' 'sy' 'tt' 'cd' 'sb' 'mz' 'mm' 'tj' 'tw' 'gu' 'cg' 'gl' 'nz' 'mv'\n",
      " 'ps' 'tm' 'ag' 'ad' 'sr' 'ws' 'je' 'do' 'li' 'fj' 'nc' 'gi' 'cf' 'mo' 'dm'\n",
      " 'bt' 're' 'fo' 'mp' 'bm' 'gn' 'tl' 'pg' 'pf' 'vc' 'zz' 'bs' 'aw' 'gb' 'vi'\n",
      " 'mh' 'tc' 'an' 'er' 'gp']\n",
      "\n",
      "#unique instances: \n",
      "200\n"
     ]
    }
   ],
   "source": [
    "infos('country')"
   ]
  },
  {
   "cell_type": "code",
   "execution_count": 102,
   "metadata": {
    "collapsed": true
   },
   "outputs": [],
   "source": [
    "country_count = bids['country'].value_counts()"
   ]
  },
  {
   "cell_type": "code",
   "execution_count": 105,
   "metadata": {
    "collapsed": false
   },
   "outputs": [
    {
     "name": "stdout",
     "output_type": "stream",
     "text": [
      "top 10: \n",
      "in    1788731\n",
      "ng     586586\n",
      "id     453611\n",
      "tr     319574\n",
      "us     318103\n",
      "za     297942\n",
      "ke     287962\n",
      "th     238172\n",
      "my     216799\n",
      "vn     190342\n",
      "Name: country, dtype: int64\n",
      "\n",
      "lowest 10: \n",
      "gb    7\n",
      "zz    7\n",
      "gn    5\n",
      "vc    4\n",
      "an    2\n",
      "gp    2\n",
      "gi    2\n",
      "er    2\n",
      "tc    1\n",
      "mh    1\n",
      "Name: country, dtype: int64\n"
     ]
    }
   ],
   "source": [
    "print(\"top 10: \")\n",
    "print(country_count[:10])\n",
    "print(\"\\nlowest 10: \")\n",
    "print(country_count[-10:])"
   ]
  },
  {
   "cell_type": "markdown",
   "metadata": {},
   "source": [
    "### device"
   ]
  },
  {
   "cell_type": "code",
   "execution_count": 126,
   "metadata": {
    "collapsed": false
   },
   "outputs": [
    {
     "name": "stdout",
     "output_type": "stream",
     "text": [
      "['phone0' 'phone1' 'phone2' ..., 'phone7496' 'phone7497' 'phone7498']\n",
      "\n",
      "#unique instances: \n",
      "7351\n"
     ]
    }
   ],
   "source": [
    "infos('device')"
   ]
  },
  {
   "cell_type": "code",
   "execution_count": 106,
   "metadata": {
    "collapsed": true
   },
   "outputs": [],
   "source": [
    "device_count = bids['device'].value_counts()"
   ]
  },
  {
   "cell_type": "markdown",
   "metadata": {},
   "source": [
    "### merchandise"
   ]
  },
  {
   "cell_type": "code",
   "execution_count": 108,
   "metadata": {
    "collapsed": false
   },
   "outputs": [
    {
     "name": "stdout",
     "output_type": "stream",
     "text": [
      "['jewelry' 'furniture' 'home goods' 'mobile' 'sporting goods'\n",
      " 'office equipment' 'computers' 'books and music' 'clothing' 'auto parts']\n",
      "\n",
      "#unique_devices: \n",
      "10\n"
     ]
    }
   ],
   "source": [
    "infos('merchandise')"
   ]
  },
  {
   "cell_type": "code",
   "execution_count": 97,
   "metadata": {
    "collapsed": true
   },
   "outputs": [],
   "source": [
    "merchandise_count = bids['merchandise'].value_counts()"
   ]
  },
  {
   "cell_type": "code",
   "execution_count": 98,
   "metadata": {
    "collapsed": false
   },
   "outputs": [
    {
     "name": "stderr",
     "output_type": "stream",
     "text": [
      "C:\\Users\\OUMOUSS\\Anaconda3\\lib\\site-packages\\seaborn\\categorical.py:1424: FutureWarning: remove_na is deprecated and is a private function. Do not use.\n",
      "  stat_data = remove_na(group_data)\n"
     ]
    },
    {
     "data": {
      "image/png": "[encoded data removed]",
      "text/plain": [
       "<matplotlib.figure.Figure at 0x217a56c19b0>"
      ]
     },
     "metadata": {},
     "output_type": "display_data"
    }
   ],
   "source": [
    "import matplotlib.pyplot as plt\n",
    "import seaborn as sns\n",
    "%matplotlib inline\n",
    "\n",
    "plt.figure(figsize=(10,5))\n",
    "sns.barplot(merchandise_count.index, merchandise_count.values, alpha=0.8)\n",
    "plt.title('top 10 bidders')\n",
    "plt.ylabel('Number of Occurrences', fontsize=12)\n",
    "plt.xlabel('bidder', fontsize=8)\n",
    "plt.xticks(rotation=45)\n",
    "plt.show()"
   ]
  },
  {
   "cell_type": "markdown",
   "metadata": {
    "collapsed": true
   },
   "source": [
    "### Time "
   ]
  },
  {
   "cell_type": "code",
   "execution_count": 130,
   "metadata": {
    "collapsed": false
   },
   "outputs": [
    {
     "data": {
      "text/plain": [
       "count    7.656334e+06\n",
       "mean     9.697978e+15\n",
       "std      5.250518e+13\n",
       "min      9.631917e+15\n",
       "25%      9.641139e+15\n",
       "50%      9.700654e+15\n",
       "75%      9.761744e+15\n",
       "max      9.772885e+15\n",
       "Name: time, dtype: float64"
      ]
     },
     "execution_count": 130,
     "metadata": {},
     "output_type": "execute_result"
    }
   ],
   "source": [
    "bids.time.describe()"
   ]
  },
  {
   "cell_type": "code",
   "execution_count": 147,
   "metadata": {
    "collapsed": false
   },
   "outputs": [
    {
     "data": {
      "text/plain": [
       "(9631916842105263, 9772885210526315)"
      ]
     },
     "execution_count": 147,
     "metadata": {},
     "output_type": "execute_result"
    }
   ],
   "source": [
    "t_min,t_max = bids.time.min(), bids.time.max()\n",
    "t_min,t_max"
   ]
  },
  {
   "cell_type": "code",
   "execution_count": 45,
   "metadata": {
    "collapsed": false
   },
   "outputs": [],
   "source": []
  },
  {
   "cell_type": "code",
   "execution_count": 48,
   "metadata": {
    "collapsed": false
   },
   "outputs": [
    {
     "data": {
      "text/plain": [
       "Index(['bidder_id_', 'time_min', 'time_max'], dtype='object')"
      ]
     },
     "execution_count": 48,
     "metadata": {},
     "output_type": "execute_result"
    }
   ],
   "source": [
    "grouping_time.columns"
   ]
  },
  {
   "cell_type": "code",
   "execution_count": 47,
   "metadata": {
    "collapsed": false,
    "scrolled": true
   },
   "outputs": [
    {
     "data": {
      "text/html": [
       "<div>\n",
       "<style scoped>\n",
       "    .dataframe tbody tr th:only-of-type {\n",
       "        vertical-align: middle;\n",
       "    }\n",
       "\n",
       "    .dataframe tbody tr th {\n",
       "        vertical-align: top;\n",
       "    }\n",
       "\n",
       "    .dataframe thead th {\n",
       "        text-align: right;\n",
       "    }\n",
       "</style>\n",
       "<table border=\"1\" class=\"dataframe\">\n",
       "  <thead>\n",
       "    <tr style=\"text-align: right;\">\n",
       "      <th></th>\n",
       "      <th>bidder_id</th>\n",
       "      <th>time_min</th>\n",
       "      <th>time_max</th>\n",
       "    </tr>\n",
       "  </thead>\n",
       "  <tbody>\n",
       "    <tr>\n",
       "      <th>0</th>\n",
       "      <td>001068c415025a009fee375a12cff4fcnht8y</td>\n",
       "      <td>9706345052631578</td>\n",
       "      <td>9706345052631578</td>\n",
       "    </tr>\n",
       "    <tr>\n",
       "      <th>1</th>\n",
       "      <td>002d229ffb247009810828f648afc2ef593rb</td>\n",
       "      <td>9766744105263157</td>\n",
       "      <td>9766744210526315</td>\n",
       "    </tr>\n",
       "    <tr>\n",
       "      <th>2</th>\n",
       "      <td>0030a2dd87ad2733e0873062e4f83954mkj86</td>\n",
       "      <td>9704553947368421</td>\n",
       "      <td>9704553947368421</td>\n",
       "    </tr>\n",
       "    <tr>\n",
       "      <th>3</th>\n",
       "      <td>003180b29c6a5f8f1d84a6b7b6f7be57tjj1o</td>\n",
       "      <td>9640018631578947</td>\n",
       "      <td>9705974315789473</td>\n",
       "    </tr>\n",
       "    <tr>\n",
       "      <th>4</th>\n",
       "      <td>00486a11dff552c4bd7696265724ff81yeo9v</td>\n",
       "      <td>9632636526315789</td>\n",
       "      <td>9708986368421052</td>\n",
       "    </tr>\n",
       "    <tr>\n",
       "      <th>5</th>\n",
       "      <td>0051aef3fdeacdadba664b9b3b07e04e4coc6</td>\n",
       "      <td>9759271368421052</td>\n",
       "      <td>9770226578947368</td>\n",
       "    </tr>\n",
       "    <tr>\n",
       "      <th>6</th>\n",
       "      <td>0053b78cde37c4384a20d2da9aa4272aym4pb</td>\n",
       "      <td>9631938631578947</td>\n",
       "      <td>9709219052631578</td>\n",
       "    </tr>\n",
       "    <tr>\n",
       "      <th>7</th>\n",
       "      <td>0061edfc5b07ff3d70d693883a38d370oy4fs</td>\n",
       "      <td>9759268736842105</td>\n",
       "      <td>9772865684210526</td>\n",
       "    </tr>\n",
       "    <tr>\n",
       "      <th>8</th>\n",
       "      <td>00862324eb508ca5202b6d4e5f1a80fc3t3lp</td>\n",
       "      <td>9636539210526315</td>\n",
       "      <td>9636542263157894</td>\n",
       "    </tr>\n",
       "    <tr>\n",
       "      <th>9</th>\n",
       "      <td>009479273c288b1dd096dc3087653499lrx3c</td>\n",
       "      <td>9634283368421052</td>\n",
       "      <td>9634283368421052</td>\n",
       "    </tr>\n",
       "    <tr>\n",
       "      <th>10</th>\n",
       "      <td>009cee781e8414f7fb55b2f92157e9dbu0y6o</td>\n",
       "      <td>9633945263157894</td>\n",
       "      <td>9698241684210526</td>\n",
       "    </tr>\n",
       "    <tr>\n",
       "      <th>11</th>\n",
       "      <td>00a0517965f18610417ee784a05f494d4dw6e</td>\n",
       "      <td>9632299631578947</td>\n",
       "      <td>9709115263157894</td>\n",
       "    </tr>\n",
       "    <tr>\n",
       "      <th>12</th>\n",
       "      <td>00a79ebd15f0b24a0a3b5794457cd8ed7dng1</td>\n",
       "      <td>9631917105263157</td>\n",
       "      <td>9634939052631578</td>\n",
       "    </tr>\n",
       "    <tr>\n",
       "      <th>13</th>\n",
       "      <td>00b519ec8ed5e370328451379bb708a306eoj</td>\n",
       "      <td>9631939526315789</td>\n",
       "      <td>9709198157894736</td>\n",
       "    </tr>\n",
       "    <tr>\n",
       "      <th>14</th>\n",
       "      <td>00cc97158e6f4cb8eac3c0075918b7ffi5k8o</td>\n",
       "      <td>9641141894736842</td>\n",
       "      <td>9696109894736842</td>\n",
       "    </tr>\n",
       "    <tr>\n",
       "      <th>15</th>\n",
       "      <td>00ceb1b66fc6c08f2e1b7937b5bc7f870qn5k</td>\n",
       "      <td>9631932263157894</td>\n",
       "      <td>9645494947368421</td>\n",
       "    </tr>\n",
       "    <tr>\n",
       "      <th>16</th>\n",
       "      <td>00dd948c3a88f7b68f1952dbeeac68ffb6qoc</td>\n",
       "      <td>9768245052631578</td>\n",
       "      <td>9768245052631578</td>\n",
       "    </tr>\n",
       "    <tr>\n",
       "      <th>17</th>\n",
       "      <td>00e0f614d9dd32dd27f6080f472d2934emlos</td>\n",
       "      <td>9631955421052631</td>\n",
       "      <td>9709217947368421</td>\n",
       "    </tr>\n",
       "    <tr>\n",
       "      <th>18</th>\n",
       "      <td>01067975436d123f717ee5aba0dd4bbfa0937</td>\n",
       "      <td>9759251421052631</td>\n",
       "      <td>9772840894736842</td>\n",
       "    </tr>\n",
       "    <tr>\n",
       "      <th>19</th>\n",
       "      <td>010e5ed5eb439e0daf1870a0b426e32cztbdt</td>\n",
       "      <td>9632158842105263</td>\n",
       "      <td>9708961368421052</td>\n",
       "    </tr>\n",
       "    <tr>\n",
       "      <th>20</th>\n",
       "      <td>0113d101ec6aabd354adac645a1ec3e82ln88</td>\n",
       "      <td>9759272894736842</td>\n",
       "      <td>9772796000000000</td>\n",
       "    </tr>\n",
       "    <tr>\n",
       "      <th>21</th>\n",
       "      <td>012441119bcf83b23d4768bb72cea6d6carua</td>\n",
       "      <td>9759781315789473</td>\n",
       "      <td>9772150473684210</td>\n",
       "    </tr>\n",
       "    <tr>\n",
       "      <th>22</th>\n",
       "      <td>01255c2c7c5578c186873422fc00fd7afwk8k</td>\n",
       "      <td>9759272684210526</td>\n",
       "      <td>9772551789473684</td>\n",
       "    </tr>\n",
       "    <tr>\n",
       "      <th>23</th>\n",
       "      <td>01349288df20199905e719f0ff7ee771nwryj</td>\n",
       "      <td>9759274842105263</td>\n",
       "      <td>9772453315789473</td>\n",
       "    </tr>\n",
       "    <tr>\n",
       "      <th>24</th>\n",
       "      <td>0141844fc725a85e38e12cc02fcdbbe8ofqxv</td>\n",
       "      <td>9760320105263157</td>\n",
       "      <td>9772602789473684</td>\n",
       "    </tr>\n",
       "    <tr>\n",
       "      <th>25</th>\n",
       "      <td>0165dcd38f54e83aafb7bb3d95cd9369800km</td>\n",
       "      <td>9759537526315789</td>\n",
       "      <td>9770635263157894</td>\n",
       "    </tr>\n",
       "    <tr>\n",
       "      <th>26</th>\n",
       "      <td>016e3c511caf01a845c9c976bbf355a6m1nns</td>\n",
       "      <td>9701572473684210</td>\n",
       "      <td>9701615526315789</td>\n",
       "    </tr>\n",
       "    <tr>\n",
       "      <th>27</th>\n",
       "      <td>0176025cc599cb59f825d592b8ef3ee3p5aqv</td>\n",
       "      <td>9640342894736842</td>\n",
       "      <td>9640342894736842</td>\n",
       "    </tr>\n",
       "    <tr>\n",
       "      <th>28</th>\n",
       "      <td>0181b91f58e6cbaa832235e2879c9c00ovrzi</td>\n",
       "      <td>9759404052631578</td>\n",
       "      <td>9771996052631578</td>\n",
       "    </tr>\n",
       "    <tr>\n",
       "      <th>29</th>\n",
       "      <td>018c9ecc065880c95e21c0291a3b478dj1c0a</td>\n",
       "      <td>9770259157894736</td>\n",
       "      <td>9770259157894736</td>\n",
       "    </tr>\n",
       "    <tr>\n",
       "      <th>...</th>\n",
       "      <td>...</td>\n",
       "      <td>...</td>\n",
       "      <td>...</td>\n",
       "    </tr>\n",
       "    <tr>\n",
       "      <th>6584</th>\n",
       "      <td>febd10d48d054678f5672477d2727eb1qwk9r</td>\n",
       "      <td>9761078789473684</td>\n",
       "      <td>9768720789473684</td>\n",
       "    </tr>\n",
       "    <tr>\n",
       "      <th>6585</th>\n",
       "      <td>fec57d2db5692eb144a71aaa35a11b58delkw</td>\n",
       "      <td>9632081052631578</td>\n",
       "      <td>9641012842105263</td>\n",
       "    </tr>\n",
       "    <tr>\n",
       "      <th>6586</th>\n",
       "      <td>fece3c53b81ceab8397be5ef12ab22dabelbt</td>\n",
       "      <td>9759566368421052</td>\n",
       "      <td>9772769684210526</td>\n",
       "    </tr>\n",
       "    <tr>\n",
       "      <th>6587</th>\n",
       "      <td>fecea7c93f6fc416ab1165267723b0bewb7le</td>\n",
       "      <td>9703023473684210</td>\n",
       "      <td>9703023473684210</td>\n",
       "    </tr>\n",
       "    <tr>\n",
       "      <th>6588</th>\n",
       "      <td>fed17afd8e0c1c33c3579bff0f8ba3a5ftxc7</td>\n",
       "      <td>9759844210526315</td>\n",
       "      <td>9772851473684210</td>\n",
       "    </tr>\n",
       "    <tr>\n",
       "      <th>6589</th>\n",
       "      <td>fede6799ca7626029d0bfcfb54f563d919bxl</td>\n",
       "      <td>9632017421052631</td>\n",
       "      <td>9639629526315789</td>\n",
       "    </tr>\n",
       "    <tr>\n",
       "      <th>6590</th>\n",
       "      <td>fee0c34ddefeaf552b6ff74c124db4611e63c</td>\n",
       "      <td>9632003578947368</td>\n",
       "      <td>9709151473684210</td>\n",
       "    </tr>\n",
       "    <tr>\n",
       "      <th>6591</th>\n",
       "      <td>fee9106e2b7f1165983bdacbc1706bf02mt5t</td>\n",
       "      <td>9644123157894736</td>\n",
       "      <td>9709205631578947</td>\n",
       "    </tr>\n",
       "    <tr>\n",
       "      <th>6592</th>\n",
       "      <td>fee92551b2ca116f3a8e774f046290c2vj3tu</td>\n",
       "      <td>9632912421052631</td>\n",
       "      <td>9705683000000000</td>\n",
       "    </tr>\n",
       "    <tr>\n",
       "      <th>6593</th>\n",
       "      <td>fef833fd1639d647db78851c77ca716b5lnxz</td>\n",
       "      <td>9631949736842105</td>\n",
       "      <td>9709196473684210</td>\n",
       "    </tr>\n",
       "    <tr>\n",
       "      <th>6594</th>\n",
       "      <td>ff12cd48c7de8ffb8b2099f262ce03980dqqz</td>\n",
       "      <td>9640826052631578</td>\n",
       "      <td>9703770105263157</td>\n",
       "    </tr>\n",
       "    <tr>\n",
       "      <th>6595</th>\n",
       "      <td>ff181014a0d7bb534fb9a35f22e24fe72m1d5</td>\n",
       "      <td>9631959105263157</td>\n",
       "      <td>9709207947368421</td>\n",
       "    </tr>\n",
       "    <tr>\n",
       "      <th>6596</th>\n",
       "      <td>ff375d34745157a44e3ba3de0f30dd1bhypuh</td>\n",
       "      <td>9772848368421052</td>\n",
       "      <td>9772848368421052</td>\n",
       "    </tr>\n",
       "    <tr>\n",
       "      <th>6597</th>\n",
       "      <td>ff3ae9450581aa3de5d2326f70e39d20w8fbl</td>\n",
       "      <td>9634056210526315</td>\n",
       "      <td>9702484105263157</td>\n",
       "    </tr>\n",
       "    <tr>\n",
       "      <th>6598</th>\n",
       "      <td>ff4e39c0be8af4b17a73dcb761e4bb6dmop0m</td>\n",
       "      <td>9633340052631578</td>\n",
       "      <td>9704085578947368</td>\n",
       "    </tr>\n",
       "    <tr>\n",
       "      <th>6599</th>\n",
       "      <td>ff4ef967074bb2a03b9729d1c527494a0kvf7</td>\n",
       "      <td>9631952157894736</td>\n",
       "      <td>9708752842105263</td>\n",
       "    </tr>\n",
       "    <tr>\n",
       "      <th>6600</th>\n",
       "      <td>ff5069626488d0409be146cff3f1f2eak2n7a</td>\n",
       "      <td>9708375736842105</td>\n",
       "      <td>9708375736842105</td>\n",
       "    </tr>\n",
       "    <tr>\n",
       "      <th>6601</th>\n",
       "      <td>ff566c87f2babf3dcd67be286e1c6666cxzh1</td>\n",
       "      <td>9635691421052631</td>\n",
       "      <td>9706357105263157</td>\n",
       "    </tr>\n",
       "    <tr>\n",
       "      <th>6602</th>\n",
       "      <td>ff58ffde976a4899dcd89597a7877e18lntgz</td>\n",
       "      <td>9759252578947368</td>\n",
       "      <td>9772876736842105</td>\n",
       "    </tr>\n",
       "    <tr>\n",
       "      <th>6603</th>\n",
       "      <td>ff74c92e8503ad93ac6c51695b373e644hzbn</td>\n",
       "      <td>9631917210526315</td>\n",
       "      <td>9709220263157894</td>\n",
       "    </tr>\n",
       "    <tr>\n",
       "      <th>6604</th>\n",
       "      <td>ff8a8bcb0ecfd4c8881ab22abeba75a9u4q95</td>\n",
       "      <td>9763046789473684</td>\n",
       "      <td>9772834526315789</td>\n",
       "    </tr>\n",
       "    <tr>\n",
       "      <th>6605</th>\n",
       "      <td>ff92ea4abd33ed38601287f0e1d6726dmgx1f</td>\n",
       "      <td>9632170578947368</td>\n",
       "      <td>9708986263157894</td>\n",
       "    </tr>\n",
       "    <tr>\n",
       "      <th>6606</th>\n",
       "      <td>ffa7b0b0f144b1594131d99e50c17a0bwbym3</td>\n",
       "      <td>9759319105263157</td>\n",
       "      <td>9772726947368421</td>\n",
       "    </tr>\n",
       "    <tr>\n",
       "      <th>6607</th>\n",
       "      <td>ffacbed056cbfaa60c1fcf51f0d381bddr3ly</td>\n",
       "      <td>9633932263157894</td>\n",
       "      <td>9704534105263157</td>\n",
       "    </tr>\n",
       "    <tr>\n",
       "      <th>6608</th>\n",
       "      <td>ffaf0a972a6dcb3910fd6b16045781e2ava5y</td>\n",
       "      <td>9763839947368421</td>\n",
       "      <td>9772616263157894</td>\n",
       "    </tr>\n",
       "    <tr>\n",
       "      <th>6609</th>\n",
       "      <td>ffbc0fdfbf19a8a9116b68714138f2902cc13</td>\n",
       "      <td>9759243263157894</td>\n",
       "      <td>9772883842105263</td>\n",
       "    </tr>\n",
       "    <tr>\n",
       "      <th>6610</th>\n",
       "      <td>ffc4e2dd2cc08249f299cab46ecbfacfobmr3</td>\n",
       "      <td>9632853421052631</td>\n",
       "      <td>9708376684210526</td>\n",
       "    </tr>\n",
       "    <tr>\n",
       "      <th>6611</th>\n",
       "      <td>ffd29eb307a4c54610dd2d3d212bf3bagmmpl</td>\n",
       "      <td>9642379947368421</td>\n",
       "      <td>9642379947368421</td>\n",
       "    </tr>\n",
       "    <tr>\n",
       "      <th>6612</th>\n",
       "      <td>ffd62646d600b759a985d45918bd6f0431vmz</td>\n",
       "      <td>9759257315789473</td>\n",
       "      <td>9772881631578947</td>\n",
       "    </tr>\n",
       "    <tr>\n",
       "      <th>6613</th>\n",
       "      <td>fff2c070d8200e0a09150bd81452ce29ngcnv</td>\n",
       "      <td>9705193473684210</td>\n",
       "      <td>9705193473684210</td>\n",
       "    </tr>\n",
       "  </tbody>\n",
       "</table>\n",
       "<p>6614 rows × 3 columns</p>\n",
       "</div>"
      ],
      "text/plain": [
       "                                  bidder_id          time_min  \\\n",
       "0     001068c415025a009fee375a12cff4fcnht8y  9706345052631578   \n",
       "1     002d229ffb247009810828f648afc2ef593rb  9766744105263157   \n",
       "2     0030a2dd87ad2733e0873062e4f83954mkj86  9704553947368421   \n",
       "3     003180b29c6a5f8f1d84a6b7b6f7be57tjj1o  9640018631578947   \n",
       "4     00486a11dff552c4bd7696265724ff81yeo9v  9632636526315789   \n",
       "5     0051aef3fdeacdadba664b9b3b07e04e4coc6  9759271368421052   \n",
       "6     0053b78cde37c4384a20d2da9aa4272aym4pb  9631938631578947   \n",
       "7     0061edfc5b07ff3d70d693883a38d370oy4fs  9759268736842105   \n",
       "8     00862324eb508ca5202b6d4e5f1a80fc3t3lp  9636539210526315   \n",
       "9     009479273c288b1dd096dc3087653499lrx3c  9634283368421052   \n",
       "10    009cee781e8414f7fb55b2f92157e9dbu0y6o  9633945263157894   \n",
       "11    00a0517965f18610417ee784a05f494d4dw6e  9632299631578947   \n",
       "12    00a79ebd15f0b24a0a3b5794457cd8ed7dng1  9631917105263157   \n",
       "13    00b519ec8ed5e370328451379bb708a306eoj  9631939526315789   \n",
       "14    00cc97158e6f4cb8eac3c0075918b7ffi5k8o  9641141894736842   \n",
       "15    00ceb1b66fc6c08f2e1b7937b5bc7f870qn5k  9631932263157894   \n",
       "16    00dd948c3a88f7b68f1952dbeeac68ffb6qoc  9768245052631578   \n",
       "17    00e0f614d9dd32dd27f6080f472d2934emlos  9631955421052631   \n",
       "18    01067975436d123f717ee5aba0dd4bbfa0937  9759251421052631   \n",
       "19    010e5ed5eb439e0daf1870a0b426e32cztbdt  9632158842105263   \n",
       "20    0113d101ec6aabd354adac645a1ec3e82ln88  9759272894736842   \n",
       "21    012441119bcf83b23d4768bb72cea6d6carua  9759781315789473   \n",
       "22    01255c2c7c5578c186873422fc00fd7afwk8k  9759272684210526   \n",
       "23    01349288df20199905e719f0ff7ee771nwryj  9759274842105263   \n",
       "24    0141844fc725a85e38e12cc02fcdbbe8ofqxv  9760320105263157   \n",
       "25    0165dcd38f54e83aafb7bb3d95cd9369800km  9759537526315789   \n",
       "26    016e3c511caf01a845c9c976bbf355a6m1nns  9701572473684210   \n",
       "27    0176025cc599cb59f825d592b8ef3ee3p5aqv  9640342894736842   \n",
       "28    0181b91f58e6cbaa832235e2879c9c00ovrzi  9759404052631578   \n",
       "29    018c9ecc065880c95e21c0291a3b478dj1c0a  9770259157894736   \n",
       "...                                     ...               ...   \n",
       "6584  febd10d48d054678f5672477d2727eb1qwk9r  9761078789473684   \n",
       "6585  fec57d2db5692eb144a71aaa35a11b58delkw  9632081052631578   \n",
       "6586  fece3c53b81ceab8397be5ef12ab22dabelbt  9759566368421052   \n",
       "6587  fecea7c93f6fc416ab1165267723b0bewb7le  9703023473684210   \n",
       "6588  fed17afd8e0c1c33c3579bff0f8ba3a5ftxc7  9759844210526315   \n",
       "6589  fede6799ca7626029d0bfcfb54f563d919bxl  9632017421052631   \n",
       "6590  fee0c34ddefeaf552b6ff74c124db4611e63c  9632003578947368   \n",
       "6591  fee9106e2b7f1165983bdacbc1706bf02mt5t  9644123157894736   \n",
       "6592  fee92551b2ca116f3a8e774f046290c2vj3tu  9632912421052631   \n",
       "6593  fef833fd1639d647db78851c77ca716b5lnxz  9631949736842105   \n",
       "6594  ff12cd48c7de8ffb8b2099f262ce03980dqqz  9640826052631578   \n",
       "6595  ff181014a0d7bb534fb9a35f22e24fe72m1d5  9631959105263157   \n",
       "6596  ff375d34745157a44e3ba3de0f30dd1bhypuh  9772848368421052   \n",
       "6597  ff3ae9450581aa3de5d2326f70e39d20w8fbl  9634056210526315   \n",
       "6598  ff4e39c0be8af4b17a73dcb761e4bb6dmop0m  9633340052631578   \n",
       "6599  ff4ef967074bb2a03b9729d1c527494a0kvf7  9631952157894736   \n",
       "6600  ff5069626488d0409be146cff3f1f2eak2n7a  9708375736842105   \n",
       "6601  ff566c87f2babf3dcd67be286e1c6666cxzh1  9635691421052631   \n",
       "6602  ff58ffde976a4899dcd89597a7877e18lntgz  9759252578947368   \n",
       "6603  ff74c92e8503ad93ac6c51695b373e644hzbn  9631917210526315   \n",
       "6604  ff8a8bcb0ecfd4c8881ab22abeba75a9u4q95  9763046789473684   \n",
       "6605  ff92ea4abd33ed38601287f0e1d6726dmgx1f  9632170578947368   \n",
       "6606  ffa7b0b0f144b1594131d99e50c17a0bwbym3  9759319105263157   \n",
       "6607  ffacbed056cbfaa60c1fcf51f0d381bddr3ly  9633932263157894   \n",
       "6608  ffaf0a972a6dcb3910fd6b16045781e2ava5y  9763839947368421   \n",
       "6609  ffbc0fdfbf19a8a9116b68714138f2902cc13  9759243263157894   \n",
       "6610  ffc4e2dd2cc08249f299cab46ecbfacfobmr3  9632853421052631   \n",
       "6611  ffd29eb307a4c54610dd2d3d212bf3bagmmpl  9642379947368421   \n",
       "6612  ffd62646d600b759a985d45918bd6f0431vmz  9759257315789473   \n",
       "6613  fff2c070d8200e0a09150bd81452ce29ngcnv  9705193473684210   \n",
       "\n",
       "              time_max  \n",
       "0     9706345052631578  \n",
       "1     9766744210526315  \n",
       "2     9704553947368421  \n",
       "3     9705974315789473  \n",
       "4     9708986368421052  \n",
       "5     9770226578947368  \n",
       "6     9709219052631578  \n",
       "7     9772865684210526  \n",
       "8     9636542263157894  \n",
       "9     9634283368421052  \n",
       "10    9698241684210526  \n",
       "11    9709115263157894  \n",
       "12    9634939052631578  \n",
       "13    9709198157894736  \n",
       "14    9696109894736842  \n",
       "15    9645494947368421  \n",
       "16    9768245052631578  \n",
       "17    9709217947368421  \n",
       "18    9772840894736842  \n",
       "19    9708961368421052  \n",
       "20    9772796000000000  \n",
       "21    9772150473684210  \n",
       "22    9772551789473684  \n",
       "23    9772453315789473  \n",
       "24    9772602789473684  \n",
       "25    9770635263157894  \n",
       "26    9701615526315789  \n",
       "27    9640342894736842  \n",
       "28    9771996052631578  \n",
       "29    9770259157894736  \n",
       "...                ...  \n",
       "6584  9768720789473684  \n",
       "6585  9641012842105263  \n",
       "6586  9772769684210526  \n",
       "6587  9703023473684210  \n",
       "6588  9772851473684210  \n",
       "6589  9639629526315789  \n",
       "6590  9709151473684210  \n",
       "6591  9709205631578947  \n",
       "6592  9705683000000000  \n",
       "6593  9709196473684210  \n",
       "6594  9703770105263157  \n",
       "6595  9709207947368421  \n",
       "6596  9772848368421052  \n",
       "6597  9702484105263157  \n",
       "6598  9704085578947368  \n",
       "6599  9708752842105263  \n",
       "6600  9708375736842105  \n",
       "6601  9706357105263157  \n",
       "6602  9772876736842105  \n",
       "6603  9709220263157894  \n",
       "6604  9772834526315789  \n",
       "6605  9708986263157894  \n",
       "6606  9772726947368421  \n",
       "6607  9704534105263157  \n",
       "6608  9772616263157894  \n",
       "6609  9772883842105263  \n",
       "6610  9708376684210526  \n",
       "6611  9642379947368421  \n",
       "6612  9772881631578947  \n",
       "6613  9705193473684210  \n",
       "\n",
       "[6614 rows x 3 columns]"
      ]
     },
     "execution_count": 47,
     "metadata": {},
     "output_type": "execute_result"
    }
   ],
   "source": [
    "# grouping_time.columns = grouping_time.columns.droplevel(0)\n",
    "grouping_time = bids.groupby('bidder_id').agg({\n",
    "        'time':['min', 'max']\n",
    "    }).reset_index()\n",
    "grouping_time.columns = [\"_\".join(x) for x in grouping_time.columns.ravel()]\n",
    "grouping_time.rename(columns={'bidder_id_': 'bidder_id'})"
   ]
  },
  {
   "cell_type": "code",
   "execution_count": 49,
   "metadata": {
    "collapsed": false,
    "scrolled": true
   },
   "outputs": [],
   "source": [
    "grouping_time['time_diff'] = grouping_time['time_max']-grouping_time['time_min']\n",
    "grouping_time.isnull().sum()"
   ]
  },
  {
   "cell_type": "markdown",
   "metadata": {},
   "source": [
    "## <span style=\"color:red\"> bivariate analysis</span>"
   ]
  },
  {
   "cell_type": "markdown",
   "metadata": {},
   "source": [
    "** from how many countries a bidder (bidder_id) has made a bid ?**\n",
    "\n",
    "we can see that some bidder are making bids from different countries\n"
   ]
  },
  {
   "cell_type": "code",
   "execution_count": 111,
   "metadata": {
    "collapsed": false,
    "scrolled": true
   },
   "outputs": [],
   "source": [
    "bid_country_count = bids.groupby(\"bidder_id\").agg({\"country\": np.count_nonzero, \"country\": pd.Series.nunique})"
   ]
  },
  {
   "cell_type": "code",
   "execution_count": 117,
   "metadata": {
    "collapsed": false
   },
   "outputs": [
    {
     "data": {
      "text/html": [
       "<div>\n",
       "<style scoped>\n",
       "    .dataframe tbody tr th:only-of-type {\n",
       "        vertical-align: middle;\n",
       "    }\n",
       "\n",
       "    .dataframe tbody tr th {\n",
       "        vertical-align: top;\n",
       "    }\n",
       "\n",
       "    .dataframe thead th {\n",
       "        text-align: right;\n",
       "    }\n",
       "</style>\n",
       "<table border=\"1\" class=\"dataframe\">\n",
       "  <thead>\n",
       "    <tr style=\"text-align: right;\">\n",
       "      <th></th>\n",
       "      <th>country</th>\n",
       "    </tr>\n",
       "    <tr>\n",
       "      <th>bidder_id</th>\n",
       "      <th></th>\n",
       "    </tr>\n",
       "  </thead>\n",
       "  <tbody>\n",
       "    <tr>\n",
       "      <th>001068c415025a009fee375a12cff4fcnht8y</th>\n",
       "      <td>1</td>\n",
       "    </tr>\n",
       "    <tr>\n",
       "      <th>002d229ffb247009810828f648afc2ef593rb</th>\n",
       "      <td>1</td>\n",
       "    </tr>\n",
       "    <tr>\n",
       "      <th>0030a2dd87ad2733e0873062e4f83954mkj86</th>\n",
       "      <td>1</td>\n",
       "    </tr>\n",
       "    <tr>\n",
       "      <th>003180b29c6a5f8f1d84a6b7b6f7be57tjj1o</th>\n",
       "      <td>1</td>\n",
       "    </tr>\n",
       "    <tr>\n",
       "      <th>00486a11dff552c4bd7696265724ff81yeo9v</th>\n",
       "      <td>1</td>\n",
       "    </tr>\n",
       "    <tr>\n",
       "      <th>0051aef3fdeacdadba664b9b3b07e04e4coc6</th>\n",
       "      <td>4</td>\n",
       "    </tr>\n",
       "    <tr>\n",
       "      <th>0053b78cde37c4384a20d2da9aa4272aym4pb</th>\n",
       "      <td>73</td>\n",
       "    </tr>\n",
       "    <tr>\n",
       "      <th>0061edfc5b07ff3d70d693883a38d370oy4fs</th>\n",
       "      <td>4</td>\n",
       "    </tr>\n",
       "    <tr>\n",
       "      <th>00862324eb508ca5202b6d4e5f1a80fc3t3lp</th>\n",
       "      <td>1</td>\n",
       "    </tr>\n",
       "    <tr>\n",
       "      <th>009479273c288b1dd096dc3087653499lrx3c</th>\n",
       "      <td>1</td>\n",
       "    </tr>\n",
       "  </tbody>\n",
       "</table>\n",
       "</div>"
      ],
      "text/plain": [
       "                                       country\n",
       "bidder_id                                     \n",
       "001068c415025a009fee375a12cff4fcnht8y        1\n",
       "002d229ffb247009810828f648afc2ef593rb        1\n",
       "0030a2dd87ad2733e0873062e4f83954mkj86        1\n",
       "003180b29c6a5f8f1d84a6b7b6f7be57tjj1o        1\n",
       "00486a11dff552c4bd7696265724ff81yeo9v        1\n",
       "0051aef3fdeacdadba664b9b3b07e04e4coc6        4\n",
       "0053b78cde37c4384a20d2da9aa4272aym4pb       73\n",
       "0061edfc5b07ff3d70d693883a38d370oy4fs        4\n",
       "00862324eb508ca5202b6d4e5f1a80fc3t3lp        1\n",
       "009479273c288b1dd096dc3087653499lrx3c        1"
      ]
     },
     "execution_count": 117,
     "metadata": {},
     "output_type": "execute_result"
    }
   ],
   "source": [
    "bid_country_count.head(10)"
   ]
  },
  {
   "cell_type": "code",
   "execution_count": 118,
   "metadata": {
    "collapsed": true
   },
   "outputs": [],
   "source": [
    "\"\"\" for more details \"\"\"\n",
    "bidder_country_grouping = bids.groupby(['bidder_id', 'country'])"
   ]
  },
  {
   "cell_type": "code",
   "execution_count": 119,
   "metadata": {
    "collapsed": false,
    "scrolled": true
   },
   "outputs": [
    {
     "data": {
      "text/plain": [
       "bidder_id                              country\n",
       "001068c415025a009fee375a12cff4fcnht8y  bn           1\n",
       "002d229ffb247009810828f648afc2ef593rb  sg           2\n",
       "0030a2dd87ad2733e0873062e4f83954mkj86  ir           1\n",
       "003180b29c6a5f8f1d84a6b7b6f7be57tjj1o  id           3\n",
       "00486a11dff552c4bd7696265724ff81yeo9v  ng          20\n",
       "0051aef3fdeacdadba664b9b3b07e04e4coc6  bg          18\n",
       "                                       id           2\n",
       "                                       se           4\n",
       "                                       us          44\n",
       "0053b78cde37c4384a20d2da9aa4272aym4pb  ae          11\n",
       "                                       au           4\n",
       "                                       bd          31\n",
       "                                       be           5\n",
       "                                       bf           4\n",
       "                                       bj           7\n",
       "                                       bn           4\n",
       "                                       bo           1\n",
       "                                       br          57\n",
       "                                       ca          57\n",
       "                                       ci          25\n",
       "                                       cl           2\n",
       "                                       cm         114\n",
       "                                       cn          50\n",
       "                                       co           1\n",
       "                                       de          92\n",
       "                                       do          10\n",
       "                                       dz           1\n",
       "                                       ec           5\n",
       "                                       eg          36\n",
       "                                       es           1\n",
       "                                                 ... \n",
       "ffbc0fdfbf19a8a9116b68714138f2902cc13  se           2\n",
       "                                       sg          38\n",
       "                                       sk           2\n",
       "                                       sl           1\n",
       "                                       sn           4\n",
       "                                       so           1\n",
       "                                       sv          16\n",
       "                                       sz           1\n",
       "                                       tg           1\n",
       "                                       th          77\n",
       "                                       tn          18\n",
       "                                       tr         382\n",
       "                                       tz          14\n",
       "                                       ua          14\n",
       "                                       ug           7\n",
       "                                       uk          37\n",
       "                                       us         128\n",
       "                                       vn          17\n",
       "                                       za          53\n",
       "                                       zm           9\n",
       "                                       zw          19\n",
       "ffc4e2dd2cc08249f299cab46ecbfacfobmr3  bd           1\n",
       "                                       et           1\n",
       "                                       in           6\n",
       "                                       my           1\n",
       "                                       ng          12\n",
       "                                       us           1\n",
       "ffd29eb307a4c54610dd2d3d212bf3bagmmpl  es           1\n",
       "ffd62646d600b759a985d45918bd6f0431vmz  id         664\n",
       "fff2c070d8200e0a09150bd81452ce29ngcnv  th           1\n",
       "Length: 84158, dtype: int64"
      ]
     },
     "execution_count": 119,
     "metadata": {},
     "output_type": "execute_result"
    }
   ],
   "source": [
    "bidder_country_grouping.size()"
   ]
  },
  {
   "cell_type": "markdown",
   "metadata": {},
   "source": [
    "**total_bid : how many times the bidder (bidder_id) shows up in our dataset?**"
   ]
  },
  {
   "cell_type": "code",
   "execution_count": 114,
   "metadata": {
    "collapsed": true
   },
   "outputs": [],
   "source": [
    "total_bid = bids['bidder_id'].value_counts()"
   ]
  },
  {
   "cell_type": "code",
   "execution_count": 116,
   "metadata": {
    "collapsed": false,
    "scrolled": true
   },
   "outputs": [
    {
     "data": {
      "text/plain": [
       "count      6614.000000\n",
       "mean       1157.595101\n",
       "std        9593.019312\n",
       "min           1.000000\n",
       "25%           3.000000\n",
       "50%          18.000000\n",
       "75%         187.000000\n",
       "max      515033.000000\n",
       "Name: bidder_id, dtype: float64"
      ]
     },
     "execution_count": 116,
     "metadata": {},
     "output_type": "execute_result"
    }
   ],
   "source": [
    "total_bid.describe()"
   ]
  },
  {
   "cell_type": "markdown",
   "metadata": {},
   "source": [
    "except one case, all our bidders, bid on one merchandise only"
   ]
  },
  {
   "cell_type": "code",
   "execution_count": 72,
   "metadata": {
    "collapsed": true
   },
   "outputs": [],
   "source": [
    "grouped = bids.groupby('bidder_id').merchandise.nunique()"
   ]
  },
  {
   "cell_type": "code",
   "execution_count": 121,
   "metadata": {
    "collapsed": false,
    "scrolled": false
   },
   "outputs": [
    {
     "data": {
      "text/plain": [
       "bidder_id\n",
       "e90e4701234b13b7a233a86967436806wqqw4    2\n",
       "001068c415025a009fee375a12cff4fcnht8y    1\n",
       "002d229ffb247009810828f648afc2ef593rb    1\n",
       "0030a2dd87ad2733e0873062e4f83954mkj86    1\n",
       "003180b29c6a5f8f1d84a6b7b6f7be57tjj1o    1\n",
       "00486a11dff552c4bd7696265724ff81yeo9v    1\n",
       "0051aef3fdeacdadba664b9b3b07e04e4coc6    1\n",
       "0053b78cde37c4384a20d2da9aa4272aym4pb    1\n",
       "0061edfc5b07ff3d70d693883a38d370oy4fs    1\n",
       "00862324eb508ca5202b6d4e5f1a80fc3t3lp    1\n",
       "Name: merchandise, dtype: int64"
      ]
     },
     "execution_count": 121,
     "metadata": {},
     "output_type": "execute_result"
    }
   ],
   "source": [
    "grouped.nlargest(10)"
   ]
  },
  {
   "cell_type": "markdown",
   "metadata": {},
   "source": [
    "Very interesting! a bidder_id with so much ip addresses."
   ]
  },
  {
   "cell_type": "code",
   "execution_count": 128,
   "metadata": {
    "collapsed": true
   },
   "outputs": [],
   "source": [
    "bid_ip_grouped = bids.groupby('bidder_id').ip.nunique()"
   ]
  },
  {
   "cell_type": "code",
   "execution_count": 129,
   "metadata": {
    "collapsed": false
   },
   "outputs": [
    {
     "data": {
      "text/plain": [
       "bidder_id\n",
       "9655ccc7c0c193f1549475f02c54dce45kjw7    111918\n",
       "197e90906939267ace2422e78e8e83889znqp    109159\n",
       "f5b2bbad20d1d7ded3ed960393bec0f40u6hn    101275\n",
       "29c103503e1d6ace5626fb07a5ab0dafrtjvs     58150\n",
       "a58ace8b671a7531c88814bc86b2a34cf0crb     53405\n",
       "0ea62aaa9c3ffcc6db584cb69c1f6c4bcripp     52257\n",
       "aa5f360084278b35d746fa6af3a7a1a5ra3xe     51891\n",
       "13b022681839a351f07d017c0edd9ed6ao2w5     45984\n",
       "2240c4ebe5702228bbd2bb3b988de7086zge8     44619\n",
       "092ceb77862ed0c120af013fe90093e64qknp     34395\n",
       "Name: ip, dtype: int64"
      ]
     },
     "execution_count": 129,
     "metadata": {},
     "output_type": "execute_result"
    }
   ],
   "source": [
    "bid_ip_grouped.nlargest(10)"
   ]
  },
  {
   "cell_type": "code",
   "execution_count": null,
   "metadata": {
    "collapsed": true
   },
   "outputs": [],
   "source": []
  },
  {
   "cell_type": "code",
   "execution_count": null,
   "metadata": {
    "collapsed": true
   },
   "outputs": [],
   "source": []
  },
  {
   "cell_type": "code",
   "execution_count": null,
   "metadata": {
    "collapsed": true
   },
   "outputs": [],
   "source": [
    "train = pd.read_csv(path+'train.csv')\n",
    "test = pd.read_csv(path+'train.csv')"
   ]
  },
  {
   "cell_type": "code",
   "execution_count": null,
   "metadata": {
    "collapsed": true
   },
   "outputs": [],
   "source": []
  },
  {
   "cell_type": "code",
   "execution_count": null,
   "metadata": {
    "collapsed": true
   },
   "outputs": [],
   "source": [
    "training = pd.read_csv(path_to_data + 'training_set.csv', sep=',', header=0)\n",
    "training_info = pd.read_csv(path_to_data + 'training_info.csv', sep=',', header=0)"
   ]
  },
  {
   "cell_type": "code",
   "execution_count": null,
   "metadata": {
    "collapsed": true
   },
   "outputs": [],
   "source": [
    "def email_sender_df(training):\n",
    "    email_sender = {}\n",
    "    for index, series in training.iterrows():\n",
    "        row = series.tolist()\n",
    "        sender = row[0]\n",
    "        ids = row[1:][0].split(' ')\n",
    "        for id in ids:\n",
    "            email_sender[int(id)] = sender\n",
    "    es_df = pd.DataFrame.from_dict(email_sender, orient='index').reset_index()\n",
    "    es_df.rename(columns={'index': 'mid', 0: 'sender'}, inplace=True)\n",
    "    print('df shape',es_df.shape)\n",
    "    return es_df"
   ]
  },
  {
   "cell_type": "code",
   "execution_count": null,
   "metadata": {
    "collapsed": true
   },
   "outputs": [],
   "source": [
    "es_df = email_sender_df(training)\n",
    "train_df = pd.merge(training_info,es_df,on='mid',how='inner')"
   ]
  },
  {
   "cell_type": "code",
   "execution_count": null,
   "metadata": {
    "collapsed": true
   },
   "outputs": [],
   "source": []
  },
  {
   "cell_type": "code",
   "execution_count": null,
   "metadata": {
    "collapsed": true
   },
   "outputs": [],
   "source": []
  },
  {
   "cell_type": "code",
   "execution_count": null,
   "metadata": {
    "collapsed": true
   },
   "outputs": [],
   "source": []
  }
 ],
 "metadata": {
  "kernelspec": {
   "display_name": "Python 3",
   "language": "python",
   "name": "python3"
  },
  "language_info": {
   "codemirror_mode": {
    "name": "ipython",
    "version": 3
   },
   "file_extension": ".py",
   "mimetype": "text/x-python",
   "name": "python",
   "nbconvert_exporter": "python",
   "pygments_lexer": "ipython3",
   "version": "3.5.2"
  }
 },
 "nbformat": 4,
 "nbformat_minor": 0
}
